{
 "cells": [
  {
   "cell_type": "code",
   "execution_count": 51,
   "metadata": {},
   "outputs": [
    {
     "data": {
      "text/plain": [
       "1463"
      ]
     },
     "execution_count": 51,
     "metadata": {},
     "output_type": "execute_result"
    }
   ],
   "source": [
    "from bs4 import BeautifulSoup\n",
    "import requests\n",
    "import pandas as pd\n",
    "import xmltodict\n",
    "\n",
    "urls = [\"https://hebbarskitchen.com/post-sitemap1.xml\", \"https://hebbarskitchen.com/post-sitemap2.xml\"]\n",
    "urldict = []\n",
    "\n",
    "for url in urls:\n",
    "    response = requests.get(url)\n",
    "    xml = response.text\n",
    "    soup = BeautifulSoup(xml)\n",
    "    \n",
    "    urlTags = soup.find_all(\"url\")\n",
    "    \n",
    "    for urlTag in urlTags:\n",
    "        urldict.append(urlTag.findNext(\"loc\").text)\n",
    "recipedict = []\n",
    "for url in urldict:\n",
    "    response = requests.get(url)\n",
    "    soup = BeautifulSoup(response.text)\n",
    "    if soup.find(\"span\", class_=\"wprm-recipe-course\") != None:\n",
    "        recipedict.append([url,soup.find(\"span\", class_=\"wprm-recipe-course\").text])\n",
    "        \n",
    "len(recipedict)"
   ]
  },
  {
   "cell_type": "code",
   "execution_count": 53,
   "metadata": {},
   "outputs": [
    {
     "data": {
      "text/html": [
       "<div>\n",
       "<style scoped>\n",
       "    .dataframe tbody tr th:only-of-type {\n",
       "        vertical-align: middle;\n",
       "    }\n",
       "\n",
       "    .dataframe tbody tr th {\n",
       "        vertical-align: top;\n",
       "    }\n",
       "\n",
       "    .dataframe thead th {\n",
       "        text-align: right;\n",
       "    }\n",
       "</style>\n",
       "<table border=\"1\" class=\"dataframe\">\n",
       "  <thead>\n",
       "    <tr style=\"text-align: right;\">\n",
       "      <th></th>\n",
       "      <th>URL</th>\n",
       "      <th>Course</th>\n",
       "    </tr>\n",
       "  </thead>\n",
       "  <tbody>\n",
       "    <tr>\n",
       "      <th>0</th>\n",
       "      <td>https://hebbarskitchen.com/ghevar-recipe-crisp...</td>\n",
       "      <td>Dessert</td>\n",
       "    </tr>\n",
       "    <tr>\n",
       "      <th>1</th>\n",
       "      <td>https://hebbarskitchen.com/spicy-maharashtrian...</td>\n",
       "      <td>Breakfast, Snack</td>\n",
       "    </tr>\n",
       "    <tr>\n",
       "      <th>2</th>\n",
       "      <td>https://hebbarskitchen.com/seviyan-kheer-recip...</td>\n",
       "      <td>Dessert</td>\n",
       "    </tr>\n",
       "    <tr>\n",
       "      <th>3</th>\n",
       "      <td>https://hebbarskitchen.com/aloo-pakora-recipe-...</td>\n",
       "      <td>snacks</td>\n",
       "    </tr>\n",
       "    <tr>\n",
       "      <th>4</th>\n",
       "      <td>https://hebbarskitchen.com/brinjal-fry-recipe-...</td>\n",
       "      <td>Side Dish</td>\n",
       "    </tr>\n",
       "    <tr>\n",
       "      <th>...</th>\n",
       "      <td>...</td>\n",
       "      <td>...</td>\n",
       "    </tr>\n",
       "    <tr>\n",
       "      <th>1458</th>\n",
       "      <td>https://hebbarskitchen.com/tomato-pudina-chutn...</td>\n",
       "      <td>chutney</td>\n",
       "    </tr>\n",
       "    <tr>\n",
       "      <th>1459</th>\n",
       "      <td>https://hebbarskitchen.com/urad-dal-ladoo-reci...</td>\n",
       "      <td>sweet</td>\n",
       "    </tr>\n",
       "    <tr>\n",
       "      <th>1460</th>\n",
       "      <td>https://hebbarskitchen.com/pani-puri-recipe-go...</td>\n",
       "      <td>indian street food</td>\n",
       "    </tr>\n",
       "    <tr>\n",
       "      <th>1461</th>\n",
       "      <td>https://hebbarskitchen.com/masala-puri-recipe-...</td>\n",
       "      <td>chaat</td>\n",
       "    </tr>\n",
       "    <tr>\n",
       "      <th>1462</th>\n",
       "      <td>https://hebbarskitchen.com/chana-masala-recipe...</td>\n",
       "      <td>curries</td>\n",
       "    </tr>\n",
       "  </tbody>\n",
       "</table>\n",
       "<p>1463 rows × 2 columns</p>\n",
       "</div>"
      ],
      "text/plain": [
       "                                                    URL              Course\n",
       "0     https://hebbarskitchen.com/ghevar-recipe-crisp...             Dessert\n",
       "1     https://hebbarskitchen.com/spicy-maharashtrian...    Breakfast, Snack\n",
       "2     https://hebbarskitchen.com/seviyan-kheer-recip...             Dessert\n",
       "3     https://hebbarskitchen.com/aloo-pakora-recipe-...              snacks\n",
       "4     https://hebbarskitchen.com/brinjal-fry-recipe-...           Side Dish\n",
       "...                                                 ...                 ...\n",
       "1458  https://hebbarskitchen.com/tomato-pudina-chutn...             chutney\n",
       "1459  https://hebbarskitchen.com/urad-dal-ladoo-reci...               sweet\n",
       "1460  https://hebbarskitchen.com/pani-puri-recipe-go...  indian street food\n",
       "1461  https://hebbarskitchen.com/masala-puri-recipe-...               chaat\n",
       "1462  https://hebbarskitchen.com/chana-masala-recipe...             curries\n",
       "\n",
       "[1463 rows x 2 columns]"
      ]
     },
     "execution_count": 53,
     "metadata": {},
     "output_type": "execute_result"
    }
   ],
   "source": [
    "df = pd.DataFrame(recipedict, columns=[\"URL\",\"Course\"])\n",
    "df"
   ]
  },
  {
   "cell_type": "code",
   "execution_count": null,
   "metadata": {
    "collapsed": true
   },
   "outputs": [],
   "source": []
  }
 ],
 "metadata": {
  "kernelspec": {
   "display_name": "Python 3",
   "language": "python",
   "name": "python3"
  },
  "language_info": {
   "codemirror_mode": {
    "name": "ipython",
    "version": 3
   },
   "file_extension": ".py",
   "mimetype": "text/x-python",
   "name": "python",
   "nbconvert_exporter": "python",
   "pygments_lexer": "ipython3",
   "version": "3.7.7"
  }
 },
 "nbformat": 4,
 "nbformat_minor": 4
}
