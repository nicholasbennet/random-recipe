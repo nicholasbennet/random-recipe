{
 "cells": [
  {
   "cell_type": "code",
   "execution_count": 2,
   "metadata": {},
   "outputs": [
    {
     "data": {
      "text/plain": [
       "1198"
      ]
     },
     "execution_count": 2,
     "metadata": {},
     "output_type": "execute_result"
    }
   ],
   "source": [
    "from bs4 import BeautifulSoup\n",
    "import requests\n",
    "import pandas as pd\n",
    "import xmltodict\n",
    "import re\n",
    "\n",
    "urls = [\"https://hebbarskitchen.com/post-sitemap1.xml\", \"https://hebbarskitchen.com/post-sitemap2.xml\"]\n",
    "urldict = [] # To maintain a list of available recipe urls in the site\n",
    "recipedict = [] # To maintain a recipe-dictionary\n",
    "\n",
    "# Extract the available recipe urls in the site\n",
    "for url in urls:\n",
    "\n",
    "    response = requests.get(url)\n",
    "    xml = response.text\n",
    "    soup = BeautifulSoup(xml)\n",
    "    \n",
    "    urlTags = soup.find_all(\"url\")\n",
    "    \n",
    "    for urlTag in urlTags:\n",
    "        urldict.append(urlTag.findNext(\"loc\").text)\n",
    "\n",
    "# Build the recipe-dictionary with values         \n",
    "for url in urldict:\n",
    "\n",
    "    if re.match(\"^(https):\\/\\/[a-z]*\\.(com)\\/[a-z,A-Z,0-9,-]*\\/$\", url) != None:\n",
    "        response = requests.get(url)\n",
    "        soup = BeautifulSoup(response.text)\n",
    "\n",
    "        if (soup.find(\"span\", class_=\"wprm-recipe-course\")!= None) and (soup.find(\"span\", class_=\"wprm-recipe-cuisine\") != None):\n",
    "            \n",
    "            ingredientList = [] # To maintain a recipe wise ingredient list\n",
    "            ingredients = soup.find_all(\"span\", class_=\"wprm-recipe-ingredient-name\")\n",
    "            \n",
    "            for ingredient in ingredients: \n",
    "                    ingredientList.append(ingredient.text)\n",
    "        \n",
    "            recipedict.append(\n",
    "                [soup.find(\"h2\", class_=\"wprm-recipe-name\").text,\n",
    "                 url,\n",
    "                 soup.find(\"span\", class_=\"wprm-recipe-course\").text,\n",
    "                 soup.find(\"span\", class_=\"wprm-recipe-cuisine\").text,\n",
    "                 ingredientList\n",
    "                ])\n",
    "        \n",
    "len(recipedict)"
   ]
  },
  {
   "cell_type": "code",
   "execution_count": 3,
   "metadata": {},
   "outputs": [],
   "source": [
    "df = pd.DataFrame(recipedict, columns=[\"Name\",\"URL\",\"Course\",\"Cuisine\",\"ingredients\"])\n",
    "# df.to_json(r'Updated_HebbarsRecipes.json', orient='index')"
   ]
  },
  {
   "cell_type": "code",
   "execution_count": null,
   "metadata": {},
   "outputs": [],
   "source": []
  }
 ],
 "metadata": {
  "kernelspec": {
   "display_name": "Python 3",
   "language": "python",
   "name": "python3"
  },
  "language_info": {
   "codemirror_mode": {
    "name": "ipython",
    "version": 3
   },
   "file_extension": ".py",
   "mimetype": "text/x-python",
   "name": "python",
   "nbconvert_exporter": "python",
   "pygments_lexer": "ipython3",
   "version": "3.8.0"
  }
 },
 "nbformat": 4,
 "nbformat_minor": 4
}
