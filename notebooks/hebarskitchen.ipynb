{
 "cells": [
  {
   "cell_type": "code",
   "execution_count": 90,
   "metadata": {},
   "outputs": [],
   "source": [
    "from bs4 import BeautifulSoup\n",
    "import requests\n",
    "import pandas as pd\n",
    "import xmltodict\n",
    "import re\n",
    "\n",
    "urls = [\"https://hebbarskitchen.com/post-sitemap1.xml\", \"https://hebbarskitchen.com/post-sitemap2.xml\"]\n",
    "urldict = []\n",
    "\n",
    "for url in urls:\n",
    "    response = requests.get(url)\n",
    "    xml = response.text\n",
    "    soup = BeautifulSoup(xml)\n",
    "    \n",
    "    urlTags = soup.find_all(\"url\")\n",
    "    \n",
    "    for urlTag in urlTags:\n",
    "        urldict.append(urlTag.findNext(\"loc\").text)\n",
    "recipedict = []\n",
    "for url in urldict:\n",
    "    if re.match(\"^(https):\\/\\/[a-z]*\\.(com)\\/[a-z,A-Z,0-9,-]*\\/$\", url) != None:\n",
    "        response = requests.get(url)\n",
    "        soup = BeautifulSoup(response.text)\n",
    "        if soup.find(\"span\", class_=\"wprm-recipe-course\") != None:\n",
    "            recipedict.append([soup.find(\"h2\", class_=\"wprm-recipe-name\").text,url,soup.find(\"span\", class_=\"wprm-recipe-course\").text])\n",
    "        \n",
    "len(recipedict)\n",
    "df = pd.DataFrame(recipedict, columns=[\"Name\",\"URL\",\"Course\"])\n",
    "df.to_json(r'HebbarsRecipes.json', orient='index')"
   ]
  }
 ],
 "metadata": {
  "kernelspec": {
   "display_name": "Python 3",
   "language": "python",
   "name": "python3"
  },
  "language_info": {
   "codemirror_mode": {
    "name": "ipython",
    "version": 3
   },
   "file_extension": ".py",
   "mimetype": "text/x-python",
   "name": "python",
   "nbconvert_exporter": "python",
   "pygments_lexer": "ipython3",
   "version": "3.7.7"
  }
 },
 "nbformat": 4,
 "nbformat_minor": 4
}
